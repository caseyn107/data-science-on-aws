{
 "cells": [
  {
   "cell_type": "code",
   "execution_count": null,
   "metadata": {
    "tags": []
   },
   "outputs": [],
   "source": [
    "# %pip install s3fs seaborn xgboost pyarrow s3fs boto3==1.26.37 awswrangler --upgrade\n",
    "%pip install xgboost boto3 awswrangler seaborn --upgrade"
   ]
  },
  {
   "cell_type": "markdown",
   "metadata": {
    "id": "jqJhvRiKnlt4"
   },
   "source": [
    "## Downloading the data"
   ]
  },
  {
   "cell_type": "code",
   "execution_count": null,
   "metadata": {
    "id": "sT8xhqVq_167",
    "tags": []
   },
   "outputs": [],
   "source": [
    "import pandas as pd\n",
    "import numpy as np\n",
    "import boto3\n",
    "\n",
    "# To handle import certain amount of rows for parquet files\n",
    "import awswrangler as wr\n",
    "\n",
    "import seaborn as sns\n",
    "import matplotlib.pyplot as plt\n",
    "import plotly.express as px\n",
    "import matplotlib\n",
    "\n",
    "matplotlib.rcParams['figure.figsize'] = 10,10\n"
   ]
  },
  {
   "cell_type": "markdown",
   "metadata": {},
   "source": [
    "#########################################\n",
    "### SELECT INPUT\n",
    "#########################################\n",
    "\n",
    "Change dataset if desired"
   ]
  },
  {
   "cell_type": "code",
   "execution_count": null,
   "metadata": {
    "tags": []
   },
   "outputs": [],
   "source": [
    "%%time\n",
    "\n",
    "# Using aws wrangler\n",
    "train_s3_path = \"s3://dsoaws/nyc-taxi-orig-cleaned-dropped-parquet-2019/train/\"\n",
    "validation_s3_path = \"s3://dsoaws/nyc-taxi-orig-cleaned-dropped-parquet-2019/validation/\"\n",
    "\n",
    "train_df = wr.s3.read_parquet(path=train_s3_path, dataset=True)\n",
    "validation_df = wr.s3.read_parquet(path=validation_s3_path, dataset=True)\n",
    "\n",
    "validation_df\n"
   ]
  },
  {
   "cell_type": "code",
   "execution_count": null,
   "metadata": {
    "colab": {
     "base_uri": "https://localhost:8080/",
     "height": 605
    },
    "id": "fC8xa5dkD1yH",
    "outputId": "7c166e8f-f2fc-4e7c-c048-3c4f07081c4c",
    "tags": []
   },
   "outputs": [],
   "source": [
    "train_df"
   ]
  },
  {
   "cell_type": "code",
   "execution_count": null,
   "metadata": {
    "colab": {
     "base_uri": "https://localhost:8080/"
    },
    "id": "_QsmkpvWD5g_",
    "outputId": "4210fdc9-054b-4afd-8e8c-57d37fc32d16",
    "tags": []
   },
   "outputs": [],
   "source": [
    "%%time\n",
    "\n",
    "train_df.info()"
   ]
  },
  {
   "cell_type": "markdown",
   "metadata": {
    "id": "S97-G8VKKP5U"
   },
   "source": [
    "### Identifying input and output columns"
   ]
  },
  {
   "cell_type": "code",
   "execution_count": null,
   "metadata": {
    "colab": {
     "base_uri": "https://localhost:8080/",
     "height": 408
    },
    "id": "0SwgbYstLAu3",
    "outputId": "b16ea091-67ea-4d7d-d395-5b4c158a7b14",
    "tags": []
   },
   "outputs": [],
   "source": [
    "%%time\n",
    "\n",
    "train_df.corr()"
   ]
  },
  {
   "cell_type": "code",
   "execution_count": null,
   "metadata": {
    "id": "Wa4yVdO5KOi0",
    "tags": []
   },
   "outputs": [],
   "source": [
    "# input_col = ['vendor_id','pickup_at','dropoff_at', 'passenger_count','store_and_fwd_flag']\n",
    "input_col = ['fare_amount','extra','tip_amount', 'tolls_amount','passenger_count', 'trip_distance']\n",
    "target_col = 'total_amount'"
   ]
  },
  {
   "cell_type": "code",
   "execution_count": null,
   "metadata": {
    "id": "DeUAZC5SMd0S",
    "tags": []
   },
   "outputs": [],
   "source": [
    "train_inputs = train_df[input_col].copy()\n",
    "train_targets = train_df[target_col].copy()"
   ]
  },
  {
   "cell_type": "code",
   "execution_count": null,
   "metadata": {
    "id": "07Tz-oiBMmzk",
    "tags": []
   },
   "outputs": [],
   "source": [
    "val_inputs = validation_df[input_col].copy()\n",
    "val_targets = validation_df[target_col].copy()"
   ]
  },
  {
   "cell_type": "code",
   "execution_count": null,
   "metadata": {
    "id": "ECvvSRaMM41V",
    "tags": []
   },
   "outputs": [],
   "source": [
    "numeric_col = train_inputs.select_dtypes(include=np.number).columns.tolist()\n",
    "cate_col = train_inputs.select_dtypes('object').columns.tolist()"
   ]
  },
  {
   "cell_type": "code",
   "execution_count": null,
   "metadata": {
    "colab": {
     "base_uri": "https://localhost:8080/",
     "height": 417
    },
    "id": "9mvYfEWfNQpT",
    "outputId": "6e6bdc9c-f320-4eae-f751-06ab53f0f85d",
    "tags": []
   },
   "outputs": [],
   "source": [
    "train_inputs[numeric_col]"
   ]
  },
  {
   "cell_type": "code",
   "execution_count": null,
   "metadata": {
    "colab": {
     "base_uri": "https://localhost:8080/",
     "height": 417
    },
    "id": "AVUUYAWPNTMT",
    "outputId": "2e6e551f-b986-494c-d4f8-b5507fedc09d",
    "tags": []
   },
   "outputs": [],
   "source": [
    "train_inputs[cate_col]"
   ]
  },
  {
   "cell_type": "markdown",
   "metadata": {
    "id": "xh-4uIO0MzXJ"
   },
   "source": [
    "### Imputing missing values\n"
   ]
  },
  {
   "cell_type": "markdown",
   "metadata": {
    "id": "VRpLxMDwwAII"
   },
   "source": [
    "Imputing is an technique in which the fill in the missing numeric values based on some category. Here if we want we'll use SimpleImputer form sklearn moduel\n",
    "\n",
    "Reference:https://scikit-learn.org/stable/modules/generated/sklearn.impute.SimpleImputer.html"
   ]
  },
  {
   "cell_type": "code",
   "execution_count": null,
   "metadata": {
    "colab": {
     "base_uri": "https://localhost:8080/"
    },
    "id": "FQQS1B02MykV",
    "outputId": "1a2b0986-f958-4ec1-c0a7-584e1c0b6d30",
    "tags": []
   },
   "outputs": [],
   "source": [
    "%%time\n",
    "\n",
    "train_inputs[numeric_col].isna().sum()"
   ]
  },
  {
   "cell_type": "code",
   "execution_count": null,
   "metadata": {
    "colab": {
     "base_uri": "https://localhost:8080/"
    },
    "id": "eKS4wA8fNZgM",
    "outputId": "7f95c1dd-0152-428d-cfa6-dd017592ce4e",
    "tags": []
   },
   "outputs": [],
   "source": [
    "%%time\n",
    "\n",
    "val_inputs[numeric_col].isna().sum()"
   ]
  },
  {
   "cell_type": "markdown",
   "metadata": {
    "id": "DC0PvmmTNh2n"
   },
   "source": [
    "It seems like there are no missing values in the train and validation datasets."
   ]
  },
  {
   "cell_type": "markdown",
   "metadata": {
    "id": "Ii_Qs-79Noxh"
   },
   "source": [
    "### Scaling numeric values"
   ]
  },
  {
   "cell_type": "markdown",
   "metadata": {
    "id": "51AG7amVvyIY"
   },
   "source": [
    "Now let's scale the numeric values to in range of (0,1) \n",
    "\n",
    "Reference:https://scikit-learn.org/stable/modules/generated/sklearn.preprocessing.MinMaxScaler.html"
   ]
  },
  {
   "cell_type": "code",
   "execution_count": null,
   "metadata": {
    "colab": {
     "base_uri": "https://localhost:8080/",
     "height": 295
    },
    "id": "VqCU-SseNrpJ",
    "outputId": "929f761a-e593-4beb-ba69-ef7f3fb5f829",
    "tags": []
   },
   "outputs": [],
   "source": [
    "train_inputs[numeric_col].describe()"
   ]
  },
  {
   "cell_type": "code",
   "execution_count": null,
   "metadata": {
    "id": "d8rHQtFcNwoc",
    "tags": []
   },
   "outputs": [],
   "source": [
    "from sklearn.preprocessing import MinMaxScaler\n",
    "scaler = MinMaxScaler()"
   ]
  },
  {
   "cell_type": "code",
   "execution_count": null,
   "metadata": {
    "colab": {
     "base_uri": "https://localhost:8080/"
    },
    "id": "L8MDSgrSN37T",
    "outputId": "6d2a2d47-21ff-409f-f5ce-03e691b7af09",
    "tags": []
   },
   "outputs": [],
   "source": [
    "%%time\n",
    "\n",
    "scaler.fit(train_inputs[numeric_col])"
   ]
  },
  {
   "cell_type": "code",
   "execution_count": null,
   "metadata": {
    "id": "gLBS3dDeN7Xp",
    "tags": []
   },
   "outputs": [],
   "source": [
    "%%time\n",
    "\n",
    "train_inputs[numeric_col] = scaler.transform(train_inputs[numeric_col])\n",
    "val_inputs[numeric_col]  = scaler.transform(val_inputs[numeric_col])"
   ]
  },
  {
   "cell_type": "code",
   "execution_count": null,
   "metadata": {
    "colab": {
     "base_uri": "https://localhost:8080/",
     "height": 295
    },
    "id": "Xj8dmrilOO7L",
    "outputId": "980e4535-68e5-4288-8fcd-d3fa41b68595",
    "tags": []
   },
   "outputs": [],
   "source": [
    "train_inputs[numeric_col].describe()"
   ]
  },
  {
   "cell_type": "markdown",
   "metadata": {
    "id": "6CzKcimXOmlP"
   },
   "source": [
    "### Encoding categorical columns"
   ]
  },
  {
   "cell_type": "markdown",
   "metadata": {
    "id": "ahfy6rNRvWX9"
   },
   "source": [
    "Now are going to encode categorical columns using one hot encoder into one hot numeric array\n",
    "Reference:https://scikit-learn.org/stable/modules/generated/sklearn.preprocessing.OneHotEncoder.html"
   ]
  },
  {
   "cell_type": "code",
   "execution_count": null,
   "metadata": {
    "id": "eV3rvjwOOpHb",
    "tags": []
   },
   "outputs": [],
   "source": [
    "from sklearn.preprocessing import OneHotEncoder\n",
    "encoder  = OneHotEncoder(sparse=False,handle_unknown='ignore')"
   ]
  },
  {
   "cell_type": "code",
   "execution_count": null,
   "metadata": {
    "colab": {
     "base_uri": "https://localhost:8080/"
    },
    "id": "K_ZIxfOkOyUT",
    "outputId": "20b96680-2687-463a-f56e-28e914bd49e0",
    "tags": []
   },
   "outputs": [],
   "source": [
    "%%time\n",
    "\n",
    "encoder.fit(train_inputs[cate_col])"
   ]
  },
  {
   "cell_type": "code",
   "execution_count": null,
   "metadata": {
    "colab": {
     "base_uri": "https://localhost:8080/"
    },
    "id": "ozJlsxh5O-AD",
    "outputId": "575a905e-eb06-4e7e-f3f0-628cad0ea920",
    "tags": []
   },
   "outputs": [],
   "source": [
    "enc_col = encoder.get_feature_names(cate_col).tolist()\n",
    "enc_col"
   ]
  },
  {
   "cell_type": "code",
   "execution_count": null,
   "metadata": {
    "id": "rHwI0JFoPDG2",
    "tags": []
   },
   "outputs": [],
   "source": [
    "%%time\n",
    "\n",
    "train_inputs[enc_col] = encoder.transform(train_inputs[cate_col])\n",
    "val_inputs[enc_col] = encoder.transform(val_inputs[cate_col])"
   ]
  },
  {
   "cell_type": "code",
   "execution_count": null,
   "metadata": {
    "colab": {
     "base_uri": "https://localhost:8080/",
     "height": 417
    },
    "id": "NNL_fYswPkzO",
    "outputId": "bbbd6875-4948-4f75-d58a-3625481f638d",
    "tags": []
   },
   "outputs": [],
   "source": [
    "train_inputs[enc_col]"
   ]
  },
  {
   "cell_type": "code",
   "execution_count": null,
   "metadata": {
    "colab": {
     "base_uri": "https://localhost:8080/",
     "height": 605
    },
    "id": "QTFG70EfPmMi",
    "outputId": "9ddb7327-8493-4f63-c014-a7358d6be7be",
    "tags": []
   },
   "outputs": [],
   "source": [
    "val_inputs"
   ]
  },
  {
   "cell_type": "code",
   "execution_count": null,
   "metadata": {
    "id": "rJ4L0sNRPn6V",
    "tags": []
   },
   "outputs": [],
   "source": [
    "%%time\n",
    "\n",
    "x_train = train_inputs[numeric_col + enc_col]\n",
    "x_val = val_inputs[numeric_col+enc_col]\n"
   ]
  },
  {
   "cell_type": "markdown",
   "metadata": {
    "id": "s3OaylADQchM",
    "tags": []
   },
   "source": [
    "## Model"
   ]
  },
  {
   "cell_type": "markdown",
   "metadata": {
    "id": "w56MGeYXUItG"
   },
   "source": [
    "## XGBoost"
   ]
  },
  {
   "cell_type": "markdown",
   "metadata": {
    "id": "O7WVaBMJtB-O"
   },
   "source": [
    "XGBoost is an powerful approach for solving regresion models.Since we are dealing regression problems, we are now going to use xgboost model\n",
    "Reference:https://xgboost.readthedocs.io/en/latest/"
   ]
  },
  {
   "cell_type": "code",
   "execution_count": null,
   "metadata": {
    "tags": []
   },
   "outputs": [],
   "source": [
    "import xgboost\n",
    "\n",
    "print(xgboost.__version__)"
   ]
  },
  {
   "cell_type": "code",
   "execution_count": null,
   "metadata": {
    "id": "1KyMWXWcUKn7",
    "tags": []
   },
   "outputs": [],
   "source": [
    "from xgboost import XGBRegressor\n",
    "model =  XGBRegressor(n_jobs=-1,random_state=42)"
   ]
  },
  {
   "cell_type": "code",
   "execution_count": null,
   "metadata": {
    "colab": {
     "base_uri": "https://localhost:8080/"
    },
    "id": "AOAElqD2UUo1",
    "outputId": "05f2fbf9-6ec2-4539-8fc5-d50ee9fb1ecf",
    "tags": []
   },
   "outputs": [],
   "source": [
    "%%time\n",
    "\n",
    "model.fit(x_train,train_targets)"
   ]
  },
  {
   "cell_type": "code",
   "execution_count": null,
   "metadata": {
    "colab": {
     "base_uri": "https://localhost:8080/"
    },
    "id": "XhIqMNaAUXjU",
    "outputId": "55d0d12e-6c71-41dc-aa18-27e9c48af31a",
    "tags": []
   },
   "outputs": [],
   "source": [
    "%%time\n",
    "\n",
    "model.predict(x_train)"
   ]
  },
  {
   "cell_type": "code",
   "execution_count": null,
   "metadata": {
    "colab": {
     "base_uri": "https://localhost:8080/"
    },
    "id": "HsVJAPPKVpaP",
    "outputId": "53345df2-8610-43ae-8b1b-72af6915143e",
    "tags": []
   },
   "outputs": [],
   "source": [
    "from sklearn.metrics import mean_squared_error\n",
    "\n",
    "mean_squared_error(model.predict(x_train),train_targets,squared=False)"
   ]
  },
  {
   "cell_type": "code",
   "execution_count": null,
   "metadata": {
    "colab": {
     "base_uri": "https://localhost:8080/"
    },
    "id": "4OZ5ugcgVyjF",
    "outputId": "ab4b52fa-0d8e-4027-d9f8-0e06ca3626f8",
    "tags": []
   },
   "outputs": [],
   "source": [
    "mean_squared_error(model.predict(x_val),val_targets,squared=False)"
   ]
  },
  {
   "cell_type": "markdown",
   "metadata": {
    "id": "Sk3foYv5XyIr"
   },
   "source": [
    "## Hyperparameter tuning (Optional)"
   ]
  },
  {
   "cell_type": "markdown",
   "metadata": {
    "id": "LvSAegxbsipQ"
   },
   "source": [
    "Now we have created a model, next we have to tune the model using the parameters so that we can reduce the loss\n",
    "Refer:https://towardsdatascience.com/xgboost-fine-tune-and-optimize-your-model-23d996fab663"
   ]
  },
  {
   "cell_type": "markdown",
   "metadata": {
    "id": "-049qDljYvTD"
   },
   "source": [
    "### max_depth"
   ]
  },
  {
   "cell_type": "code",
   "execution_count": null,
   "metadata": {
    "id": "YEP-yMQkXp3i"
   },
   "outputs": [],
   "source": [
    "# def test_param(**params):\n",
    "#   model = XGBRegressor(n_jobs=-1,random_state=42,**params)\n",
    "#   model.fit(x_train,train_targets)\n",
    "#   train_rmse = mean_squared_error(model.predict(x_train),train_targets,squared=False)\n",
    "#   val_rmse = mean_squared_error(model.predict(x_val),val_targets,squared=False)\n",
    "#   print(train_rmse,\" \",val_rmse)\n",
    "#   return train_rmse,val_rmse"
   ]
  },
  {
   "cell_type": "code",
   "execution_count": null,
   "metadata": {
    "id": "6MUFBZraY0Ac"
   },
   "outputs": [],
   "source": [
    "# def test_param_and_plot(param_name, param_values):\n",
    "#     train_errors, val_errors = [], [] \n",
    "#     for value in param_values:\n",
    "#         params = {param_name: value}\n",
    "#         train_rmse, val_rmse = test_param(**params)\n",
    "#         train_errors.append(train_rmse)\n",
    "#         val_errors.append(val_rmse)\n",
    "#     plt.figure(figsize=(10,6))\n",
    "#     plt.title('Overfitting curve: ' + param_name)\n",
    "#     plt.plot(param_values, train_errors, 'b-o')\n",
    "#     plt.plot(param_values, val_errors, 'r-o')\n",
    "#     plt.xlabel(param_name)\n",
    "#     plt.ylabel('RMSE')\n",
    "#     plt.legend(['Training', 'Validation'])"
   ]
  },
  {
   "cell_type": "code",
   "execution_count": null,
   "metadata": {
    "colab": {
     "base_uri": "https://localhost:8080/"
    },
    "id": "o70FUpHbYOY3",
    "outputId": "1606158f-3c74-4af1-f281-c7b8ab11062a"
   },
   "outputs": [],
   "source": [
    "# test_param(max_depth=2)"
   ]
  },
  {
   "cell_type": "code",
   "execution_count": null,
   "metadata": {
    "colab": {
     "base_uri": "https://localhost:8080/"
    },
    "id": "osTiFQvLYRP9",
    "outputId": "c087cf41-5287-4307-f65f-38f502504043"
   },
   "outputs": [],
   "source": [
    "# test_param(max_depth=5)"
   ]
  },
  {
   "cell_type": "code",
   "execution_count": null,
   "metadata": {
    "colab": {
     "base_uri": "https://localhost:8080/"
    },
    "id": "jtghP9D8Yr5j",
    "outputId": "6263efe5-f6ba-4cb6-ea7a-55f09729bac5"
   },
   "outputs": [],
   "source": [
    "# test_param(max_depth=10)"
   ]
  },
  {
   "cell_type": "code",
   "execution_count": null,
   "metadata": {
    "colab": {
     "base_uri": "https://localhost:8080/",
     "height": 774
    },
    "id": "ZaVR9AqlZTok",
    "outputId": "2fb0c6bf-ea80-402d-bbe5-0a4f136a3090"
   },
   "outputs": [],
   "source": [
    "# test_param_and_plot('max_depth',[x for x in range(0,60,10)])"
   ]
  },
  {
   "cell_type": "markdown",
   "metadata": {
    "id": "WueNon6HeP25"
   },
   "source": [
    "### n_estimators"
   ]
  },
  {
   "cell_type": "code",
   "execution_count": null,
   "metadata": {
    "colab": {
     "base_uri": "https://localhost:8080/"
    },
    "id": "7VRXNiSveRsd",
    "outputId": "57bd601d-fa92-4cc7-cc50-123d07d38ee6"
   },
   "outputs": [],
   "source": [
    "# test_param(n_estimators=10)"
   ]
  },
  {
   "cell_type": "code",
   "execution_count": null,
   "metadata": {
    "colab": {
     "base_uri": "https://localhost:8080/"
    },
    "id": "cClzUPiLea-n",
    "outputId": "6ed9ee8e-199d-4bcb-9e78-4c0375f7a88a"
   },
   "outputs": [],
   "source": [
    "# test_param(n_estimators=20)"
   ]
  },
  {
   "cell_type": "code",
   "execution_count": null,
   "metadata": {
    "colab": {
     "base_uri": "https://localhost:8080/"
    },
    "id": "p3MA5usxed9-",
    "outputId": "5df9acda-ebff-40af-9d3d-54d350ce2568"
   },
   "outputs": [],
   "source": [
    "# test_param(n_estimators=30)"
   ]
  },
  {
   "cell_type": "code",
   "execution_count": null,
   "metadata": {
    "colab": {
     "base_uri": "https://localhost:8080/"
    },
    "id": "ovlge4w-elPz",
    "outputId": "7c0aed8f-d0dd-4f25-e448-d39db19bba9a"
   },
   "outputs": [],
   "source": [
    "# test_param(n_estimators=40)"
   ]
  },
  {
   "cell_type": "code",
   "execution_count": null,
   "metadata": {
    "colab": {
     "base_uri": "https://localhost:8080/"
    },
    "id": "b8CHSJEteoL8",
    "outputId": "87332bf3-c3b5-4bcc-cc0d-ff9eaf2ad876"
   },
   "outputs": [],
   "source": [
    "# test_param(n_estimators=50)"
   ]
  },
  {
   "cell_type": "code",
   "execution_count": null,
   "metadata": {
    "colab": {
     "base_uri": "https://localhost:8080/"
    },
    "id": "_yF3SdJufIDB",
    "outputId": "49752c8b-8a71-49b4-d65b-558ae3e2e00c"
   },
   "outputs": [],
   "source": [
    "# test_param(n_estimators=50,max_depth=30)"
   ]
  },
  {
   "cell_type": "code",
   "execution_count": null,
   "metadata": {
    "colab": {
     "base_uri": "https://localhost:8080/"
    },
    "id": "A-0u56iufNCo",
    "outputId": "62cff6ec-7fa1-4766-a547-2429ef1baa64"
   },
   "outputs": [],
   "source": [
    "# test_param(n_estimators=60,max_depth=30)"
   ]
  },
  {
   "cell_type": "code",
   "execution_count": null,
   "metadata": {
    "colab": {
     "base_uri": "https://localhost:8080/",
     "height": 741
    },
    "id": "EvAcoQq6eq36",
    "outputId": "a69a1633-573d-4bcd-f962-817939c6f4b7"
   },
   "outputs": [],
   "source": [
    "# test_param_and_plot('n_estimators',[x for x in range(100,1100,100)])"
   ]
  },
  {
   "cell_type": "markdown",
   "metadata": {
    "id": "Of81PHg_fVKM",
    "jp-MarkdownHeadingCollapsed": true,
    "tags": []
   },
   "source": [
    "### learning_rate"
   ]
  },
  {
   "cell_type": "code",
   "execution_count": null,
   "metadata": {
    "colab": {
     "base_uri": "https://localhost:8080/"
    },
    "id": "NpwVV04VfYLu",
    "outputId": "0b3246c7-ee58-4634-818b-73ac5553646f"
   },
   "outputs": [],
   "source": [
    "# test_param(learning_rate=0.01)"
   ]
  },
  {
   "cell_type": "code",
   "execution_count": null,
   "metadata": {
    "colab": {
     "base_uri": "https://localhost:8080/"
    },
    "id": "Bn-DxoQufcQ7",
    "outputId": "ff67cd6f-75e9-44b5-d1ad-06b4703e80c5"
   },
   "outputs": [],
   "source": [
    "# test_param(learning_rate=0.1)"
   ]
  },
  {
   "cell_type": "code",
   "execution_count": null,
   "metadata": {
    "colab": {
     "base_uri": "https://localhost:8080/"
    },
    "id": "U1KjPfgdfdNk",
    "outputId": "be7eb94f-64ae-47ac-fd5e-68f092c8b35b"
   },
   "outputs": [],
   "source": [
    "# test_param(learning_rate=0.3)"
   ]
  },
  {
   "cell_type": "code",
   "execution_count": null,
   "metadata": {
    "colab": {
     "base_uri": "https://localhost:8080/"
    },
    "id": "uriLkEaSfevF",
    "outputId": "8d5b68c0-424e-4a20-de10-646b315b26a9"
   },
   "outputs": [],
   "source": [
    "# test_param(learning_rate=0.5)"
   ]
  },
  {
   "cell_type": "code",
   "execution_count": null,
   "metadata": {
    "colab": {
     "base_uri": "https://localhost:8080/"
    },
    "id": "MhnS6WtigQ7S",
    "outputId": "f157cdb1-d7cc-4ad5-b26d-88671d3dcf90"
   },
   "outputs": [],
   "source": [
    "# test_param(learning_rate=0.9)"
   ]
  },
  {
   "cell_type": "code",
   "execution_count": null,
   "metadata": {
    "colab": {
     "base_uri": "https://localhost:8080/"
    },
    "id": "au0VpP-mghtV",
    "outputId": "e0915674-1b2a-4045-b862-571dbc8496e3"
   },
   "outputs": [],
   "source": [
    "# test_param(learning_rate=1)"
   ]
  },
  {
   "cell_type": "code",
   "execution_count": null,
   "metadata": {
    "colab": {
     "base_uri": "https://localhost:8080/"
    },
    "id": "99sIeeP7fj-r",
    "outputId": "bfd1f5bc-f6d1-4638-bc2e-2f1ea853cd79"
   },
   "outputs": [],
   "source": [
    "# test_param(learning_rate=1,max_depth=60,n_estimators=60)"
   ]
  },
  {
   "cell_type": "code",
   "execution_count": null,
   "metadata": {
    "colab": {
     "base_uri": "https://localhost:8080/"
    },
    "id": "RaKZCN4mf14N",
    "outputId": "aa1a6212-8c48-4aae-e574-0e58c5bb4c9d"
   },
   "outputs": [],
   "source": [
    "# test_param(learning_rate=1,max_depth=60,n_estimators=100)"
   ]
  },
  {
   "cell_type": "markdown",
   "metadata": {
    "id": "X9DI9TDEf87C",
    "jp-MarkdownHeadingCollapsed": true,
    "tags": []
   },
   "source": [
    "### booster"
   ]
  },
  {
   "cell_type": "code",
   "execution_count": null,
   "metadata": {
    "colab": {
     "base_uri": "https://localhost:8080/"
    },
    "id": "TImYntLkgBOS",
    "outputId": "46f96fe7-d608-4525-b657-6c900d5546cc"
   },
   "outputs": [],
   "source": [
    "# test_param(booster='gblinear')"
   ]
  },
  {
   "cell_type": "code",
   "execution_count": null,
   "metadata": {
    "colab": {
     "base_uri": "https://localhost:8080/"
    },
    "id": "boFn5B-QgI6I",
    "outputId": "d51ff438-4f39-4856-8262-46f2401ba163"
   },
   "outputs": [],
   "source": [
    "# test_param(booster='gblinear', max_depth=60, n_estimators=100, learning_rate=1)"
   ]
  },
  {
   "cell_type": "code",
   "execution_count": null,
   "metadata": {
    "colab": {
     "base_uri": "https://localhost:8080/"
    },
    "id": "_EXOX64lgw7g",
    "outputId": "7dd5cdde-b833-4cb6-e1e7-f3fc0a89ad7e"
   },
   "outputs": [],
   "source": [
    "# test_param(booster='gbtree',max_depth=60,n_estimators=100,learning_rate=1)"
   ]
  },
  {
   "cell_type": "markdown",
   "metadata": {
    "id": "4RYt0Xt4hk63",
    "jp-MarkdownHeadingCollapsed": true,
    "tags": []
   },
   "source": [
    "## Putting it together"
   ]
  },
  {
   "cell_type": "code",
   "execution_count": null,
   "metadata": {
    "id": "xskwOe3chnSo"
   },
   "outputs": [],
   "source": [
    "# model = XGBRegressor(n_jobs=-1,random_state=42,max_depth=60,n_estimaotrs=100,learning_rate=0.9,booster='gbtree')"
   ]
  },
  {
   "cell_type": "code",
   "execution_count": null,
   "metadata": {
    "colab": {
     "base_uri": "https://localhost:8080/"
    },
    "id": "SHxNkxvLhxTZ",
    "outputId": "339d3966-66d1-4b6d-9170-abd28ccaa4c8"
   },
   "outputs": [],
   "source": [
    "# model.fit(x_train,train_targets)"
   ]
  },
  {
   "cell_type": "code",
   "execution_count": null,
   "metadata": {
    "colab": {
     "base_uri": "https://localhost:8080/"
    },
    "id": "-WOC7uoSiMaD",
    "outputId": "799ff0a3-a249-47c6-c904-f91c2ca5ccfe"
   },
   "outputs": [],
   "source": [
    "# mean_squared_error(model.predict(x_train),train_targets,squared=False)"
   ]
  },
  {
   "cell_type": "code",
   "execution_count": null,
   "metadata": {
    "colab": {
     "base_uri": "https://localhost:8080/"
    },
    "id": "OBQzCPaViW4-",
    "outputId": "8e452711-cced-4321-e9f3-9838f75f1b7f"
   },
   "outputs": [],
   "source": [
    "# mean_squared_error(model.predict(x_val),val_targets,squared=False)"
   ]
  },
  {
   "cell_type": "code",
   "execution_count": null,
   "metadata": {
    "colab": {
     "base_uri": "https://localhost:8080/"
    },
    "id": "jBzY8udKie_I",
    "outputId": "8f83acde-004b-4b6c-8948-2e57d8699ddc"
   },
   "outputs": [],
   "source": [
    "# mean_squared_error(model.predict(x_test),test_targets,squared=False)"
   ]
  }
 ],
 "metadata": {
  "accelerator": "GPU",
  "availableInstances": [
   {
    "_defaultOrder": 0,
    "_isFastLaunch": true,
    "category": "General purpose",
    "gpuNum": 0,
    "hideHardwareSpecs": false,
    "memoryGiB": 4,
    "name": "ml.t3.medium",
    "vcpuNum": 2
   },
   {
    "_defaultOrder": 1,
    "_isFastLaunch": false,
    "category": "General purpose",
    "gpuNum": 0,
    "hideHardwareSpecs": false,
    "memoryGiB": 8,
    "name": "ml.t3.large",
    "vcpuNum": 2
   },
   {
    "_defaultOrder": 2,
    "_isFastLaunch": false,
    "category": "General purpose",
    "gpuNum": 0,
    "hideHardwareSpecs": false,
    "memoryGiB": 16,
    "name": "ml.t3.xlarge",
    "vcpuNum": 4
   },
   {
    "_defaultOrder": 3,
    "_isFastLaunch": false,
    "category": "General purpose",
    "gpuNum": 0,
    "hideHardwareSpecs": false,
    "memoryGiB": 32,
    "name": "ml.t3.2xlarge",
    "vcpuNum": 8
   },
   {
    "_defaultOrder": 4,
    "_isFastLaunch": true,
    "category": "General purpose",
    "gpuNum": 0,
    "hideHardwareSpecs": false,
    "memoryGiB": 8,
    "name": "ml.m5.large",
    "vcpuNum": 2
   },
   {
    "_defaultOrder": 5,
    "_isFastLaunch": false,
    "category": "General purpose",
    "gpuNum": 0,
    "hideHardwareSpecs": false,
    "memoryGiB": 16,
    "name": "ml.m5.xlarge",
    "vcpuNum": 4
   },
   {
    "_defaultOrder": 6,
    "_isFastLaunch": false,
    "category": "General purpose",
    "gpuNum": 0,
    "hideHardwareSpecs": false,
    "memoryGiB": 32,
    "name": "ml.m5.2xlarge",
    "vcpuNum": 8
   },
   {
    "_defaultOrder": 7,
    "_isFastLaunch": false,
    "category": "General purpose",
    "gpuNum": 0,
    "hideHardwareSpecs": false,
    "memoryGiB": 64,
    "name": "ml.m5.4xlarge",
    "vcpuNum": 16
   },
   {
    "_defaultOrder": 8,
    "_isFastLaunch": false,
    "category": "General purpose",
    "gpuNum": 0,
    "hideHardwareSpecs": false,
    "memoryGiB": 128,
    "name": "ml.m5.8xlarge",
    "vcpuNum": 32
   },
   {
    "_defaultOrder": 9,
    "_isFastLaunch": false,
    "category": "General purpose",
    "gpuNum": 0,
    "hideHardwareSpecs": false,
    "memoryGiB": 192,
    "name": "ml.m5.12xlarge",
    "vcpuNum": 48
   },
   {
    "_defaultOrder": 10,
    "_isFastLaunch": false,
    "category": "General purpose",
    "gpuNum": 0,
    "hideHardwareSpecs": false,
    "memoryGiB": 256,
    "name": "ml.m5.16xlarge",
    "vcpuNum": 64
   },
   {
    "_defaultOrder": 11,
    "_isFastLaunch": false,
    "category": "General purpose",
    "gpuNum": 0,
    "hideHardwareSpecs": false,
    "memoryGiB": 384,
    "name": "ml.m5.24xlarge",
    "vcpuNum": 96
   },
   {
    "_defaultOrder": 12,
    "_isFastLaunch": false,
    "category": "General purpose",
    "gpuNum": 0,
    "hideHardwareSpecs": false,
    "memoryGiB": 8,
    "name": "ml.m5d.large",
    "vcpuNum": 2
   },
   {
    "_defaultOrder": 13,
    "_isFastLaunch": false,
    "category": "General purpose",
    "gpuNum": 0,
    "hideHardwareSpecs": false,
    "memoryGiB": 16,
    "name": "ml.m5d.xlarge",
    "vcpuNum": 4
   },
   {
    "_defaultOrder": 14,
    "_isFastLaunch": false,
    "category": "General purpose",
    "gpuNum": 0,
    "hideHardwareSpecs": false,
    "memoryGiB": 32,
    "name": "ml.m5d.2xlarge",
    "vcpuNum": 8
   },
   {
    "_defaultOrder": 15,
    "_isFastLaunch": false,
    "category": "General purpose",
    "gpuNum": 0,
    "hideHardwareSpecs": false,
    "memoryGiB": 64,
    "name": "ml.m5d.4xlarge",
    "vcpuNum": 16
   },
   {
    "_defaultOrder": 16,
    "_isFastLaunch": false,
    "category": "General purpose",
    "gpuNum": 0,
    "hideHardwareSpecs": false,
    "memoryGiB": 128,
    "name": "ml.m5d.8xlarge",
    "vcpuNum": 32
   },
   {
    "_defaultOrder": 17,
    "_isFastLaunch": false,
    "category": "General purpose",
    "gpuNum": 0,
    "hideHardwareSpecs": false,
    "memoryGiB": 192,
    "name": "ml.m5d.12xlarge",
    "vcpuNum": 48
   },
   {
    "_defaultOrder": 18,
    "_isFastLaunch": false,
    "category": "General purpose",
    "gpuNum": 0,
    "hideHardwareSpecs": false,
    "memoryGiB": 256,
    "name": "ml.m5d.16xlarge",
    "vcpuNum": 64
   },
   {
    "_defaultOrder": 19,
    "_isFastLaunch": false,
    "category": "General purpose",
    "gpuNum": 0,
    "hideHardwareSpecs": false,
    "memoryGiB": 384,
    "name": "ml.m5d.24xlarge",
    "vcpuNum": 96
   },
   {
    "_defaultOrder": 20,
    "_isFastLaunch": false,
    "category": "General purpose",
    "gpuNum": 0,
    "hideHardwareSpecs": true,
    "memoryGiB": 0,
    "name": "ml.geospatial.interactive",
    "supportedImageNames": [
     "sagemaker-geospatial-v1-0"
    ],
    "vcpuNum": 0
   },
   {
    "_defaultOrder": 21,
    "_isFastLaunch": true,
    "category": "Compute optimized",
    "gpuNum": 0,
    "hideHardwareSpecs": false,
    "memoryGiB": 4,
    "name": "ml.c5.large",
    "vcpuNum": 2
   },
   {
    "_defaultOrder": 22,
    "_isFastLaunch": false,
    "category": "Compute optimized",
    "gpuNum": 0,
    "hideHardwareSpecs": false,
    "memoryGiB": 8,
    "name": "ml.c5.xlarge",
    "vcpuNum": 4
   },
   {
    "_defaultOrder": 23,
    "_isFastLaunch": false,
    "category": "Compute optimized",
    "gpuNum": 0,
    "hideHardwareSpecs": false,
    "memoryGiB": 16,
    "name": "ml.c5.2xlarge",
    "vcpuNum": 8
   },
   {
    "_defaultOrder": 24,
    "_isFastLaunch": false,
    "category": "Compute optimized",
    "gpuNum": 0,
    "hideHardwareSpecs": false,
    "memoryGiB": 32,
    "name": "ml.c5.4xlarge",
    "vcpuNum": 16
   },
   {
    "_defaultOrder": 25,
    "_isFastLaunch": false,
    "category": "Compute optimized",
    "gpuNum": 0,
    "hideHardwareSpecs": false,
    "memoryGiB": 72,
    "name": "ml.c5.9xlarge",
    "vcpuNum": 36
   },
   {
    "_defaultOrder": 26,
    "_isFastLaunch": false,
    "category": "Compute optimized",
    "gpuNum": 0,
    "hideHardwareSpecs": false,
    "memoryGiB": 96,
    "name": "ml.c5.12xlarge",
    "vcpuNum": 48
   },
   {
    "_defaultOrder": 27,
    "_isFastLaunch": false,
    "category": "Compute optimized",
    "gpuNum": 0,
    "hideHardwareSpecs": false,
    "memoryGiB": 144,
    "name": "ml.c5.18xlarge",
    "vcpuNum": 72
   },
   {
    "_defaultOrder": 28,
    "_isFastLaunch": false,
    "category": "Compute optimized",
    "gpuNum": 0,
    "hideHardwareSpecs": false,
    "memoryGiB": 192,
    "name": "ml.c5.24xlarge",
    "vcpuNum": 96
   },
   {
    "_defaultOrder": 29,
    "_isFastLaunch": true,
    "category": "Accelerated computing",
    "gpuNum": 1,
    "hideHardwareSpecs": false,
    "memoryGiB": 16,
    "name": "ml.g4dn.xlarge",
    "vcpuNum": 4
   },
   {
    "_defaultOrder": 30,
    "_isFastLaunch": false,
    "category": "Accelerated computing",
    "gpuNum": 1,
    "hideHardwareSpecs": false,
    "memoryGiB": 32,
    "name": "ml.g4dn.2xlarge",
    "vcpuNum": 8
   },
   {
    "_defaultOrder": 31,
    "_isFastLaunch": false,
    "category": "Accelerated computing",
    "gpuNum": 1,
    "hideHardwareSpecs": false,
    "memoryGiB": 64,
    "name": "ml.g4dn.4xlarge",
    "vcpuNum": 16
   },
   {
    "_defaultOrder": 32,
    "_isFastLaunch": false,
    "category": "Accelerated computing",
    "gpuNum": 1,
    "hideHardwareSpecs": false,
    "memoryGiB": 128,
    "name": "ml.g4dn.8xlarge",
    "vcpuNum": 32
   },
   {
    "_defaultOrder": 33,
    "_isFastLaunch": false,
    "category": "Accelerated computing",
    "gpuNum": 4,
    "hideHardwareSpecs": false,
    "memoryGiB": 192,
    "name": "ml.g4dn.12xlarge",
    "vcpuNum": 48
   },
   {
    "_defaultOrder": 34,
    "_isFastLaunch": false,
    "category": "Accelerated computing",
    "gpuNum": 1,
    "hideHardwareSpecs": false,
    "memoryGiB": 256,
    "name": "ml.g4dn.16xlarge",
    "vcpuNum": 64
   },
   {
    "_defaultOrder": 35,
    "_isFastLaunch": false,
    "category": "Accelerated computing",
    "gpuNum": 1,
    "hideHardwareSpecs": false,
    "memoryGiB": 61,
    "name": "ml.p3.2xlarge",
    "vcpuNum": 8
   },
   {
    "_defaultOrder": 36,
    "_isFastLaunch": false,
    "category": "Accelerated computing",
    "gpuNum": 4,
    "hideHardwareSpecs": false,
    "memoryGiB": 244,
    "name": "ml.p3.8xlarge",
    "vcpuNum": 32
   },
   {
    "_defaultOrder": 37,
    "_isFastLaunch": false,
    "category": "Accelerated computing",
    "gpuNum": 8,
    "hideHardwareSpecs": false,
    "memoryGiB": 488,
    "name": "ml.p3.16xlarge",
    "vcpuNum": 64
   },
   {
    "_defaultOrder": 38,
    "_isFastLaunch": false,
    "category": "Accelerated computing",
    "gpuNum": 8,
    "hideHardwareSpecs": false,
    "memoryGiB": 768,
    "name": "ml.p3dn.24xlarge",
    "vcpuNum": 96
   },
   {
    "_defaultOrder": 39,
    "_isFastLaunch": false,
    "category": "Memory Optimized",
    "gpuNum": 0,
    "hideHardwareSpecs": false,
    "memoryGiB": 16,
    "name": "ml.r5.large",
    "vcpuNum": 2
   },
   {
    "_defaultOrder": 40,
    "_isFastLaunch": false,
    "category": "Memory Optimized",
    "gpuNum": 0,
    "hideHardwareSpecs": false,
    "memoryGiB": 32,
    "name": "ml.r5.xlarge",
    "vcpuNum": 4
   },
   {
    "_defaultOrder": 41,
    "_isFastLaunch": false,
    "category": "Memory Optimized",
    "gpuNum": 0,
    "hideHardwareSpecs": false,
    "memoryGiB": 64,
    "name": "ml.r5.2xlarge",
    "vcpuNum": 8
   },
   {
    "_defaultOrder": 42,
    "_isFastLaunch": false,
    "category": "Memory Optimized",
    "gpuNum": 0,
    "hideHardwareSpecs": false,
    "memoryGiB": 128,
    "name": "ml.r5.4xlarge",
    "vcpuNum": 16
   },
   {
    "_defaultOrder": 43,
    "_isFastLaunch": false,
    "category": "Memory Optimized",
    "gpuNum": 0,
    "hideHardwareSpecs": false,
    "memoryGiB": 256,
    "name": "ml.r5.8xlarge",
    "vcpuNum": 32
   },
   {
    "_defaultOrder": 44,
    "_isFastLaunch": false,
    "category": "Memory Optimized",
    "gpuNum": 0,
    "hideHardwareSpecs": false,
    "memoryGiB": 384,
    "name": "ml.r5.12xlarge",
    "vcpuNum": 48
   },
   {
    "_defaultOrder": 45,
    "_isFastLaunch": false,
    "category": "Memory Optimized",
    "gpuNum": 0,
    "hideHardwareSpecs": false,
    "memoryGiB": 512,
    "name": "ml.r5.16xlarge",
    "vcpuNum": 64
   },
   {
    "_defaultOrder": 46,
    "_isFastLaunch": false,
    "category": "Memory Optimized",
    "gpuNum": 0,
    "hideHardwareSpecs": false,
    "memoryGiB": 768,
    "name": "ml.r5.24xlarge",
    "vcpuNum": 96
   },
   {
    "_defaultOrder": 47,
    "_isFastLaunch": false,
    "category": "Accelerated computing",
    "gpuNum": 1,
    "hideHardwareSpecs": false,
    "memoryGiB": 16,
    "name": "ml.g5.xlarge",
    "vcpuNum": 4
   },
   {
    "_defaultOrder": 48,
    "_isFastLaunch": false,
    "category": "Accelerated computing",
    "gpuNum": 1,
    "hideHardwareSpecs": false,
    "memoryGiB": 32,
    "name": "ml.g5.2xlarge",
    "vcpuNum": 8
   },
   {
    "_defaultOrder": 49,
    "_isFastLaunch": false,
    "category": "Accelerated computing",
    "gpuNum": 1,
    "hideHardwareSpecs": false,
    "memoryGiB": 64,
    "name": "ml.g5.4xlarge",
    "vcpuNum": 16
   },
   {
    "_defaultOrder": 50,
    "_isFastLaunch": false,
    "category": "Accelerated computing",
    "gpuNum": 1,
    "hideHardwareSpecs": false,
    "memoryGiB": 128,
    "name": "ml.g5.8xlarge",
    "vcpuNum": 32
   },
   {
    "_defaultOrder": 51,
    "_isFastLaunch": false,
    "category": "Accelerated computing",
    "gpuNum": 1,
    "hideHardwareSpecs": false,
    "memoryGiB": 256,
    "name": "ml.g5.16xlarge",
    "vcpuNum": 64
   },
   {
    "_defaultOrder": 52,
    "_isFastLaunch": false,
    "category": "Accelerated computing",
    "gpuNum": 4,
    "hideHardwareSpecs": false,
    "memoryGiB": 192,
    "name": "ml.g5.12xlarge",
    "vcpuNum": 48
   },
   {
    "_defaultOrder": 53,
    "_isFastLaunch": false,
    "category": "Accelerated computing",
    "gpuNum": 4,
    "hideHardwareSpecs": false,
    "memoryGiB": 384,
    "name": "ml.g5.24xlarge",
    "vcpuNum": 96
   },
   {
    "_defaultOrder": 54,
    "_isFastLaunch": false,
    "category": "Accelerated computing",
    "gpuNum": 8,
    "hideHardwareSpecs": false,
    "memoryGiB": 768,
    "name": "ml.g5.48xlarge",
    "vcpuNum": 192
   }
  ],
  "colab": {
   "collapsed_sections": [],
   "name": "NYC_Taxi_Trip_duration_Prediction.ipynb",
   "provenance": []
  },
  "instance_type": "ml.m5.24xlarge",
  "kernelspec": {
   "display_name": "Python 3 (Data Science 3.0)",
   "language": "python",
   "name": "python3__SAGEMAKER_INTERNAL__arn:aws:sagemaker:us-east-1:081325390199:image/sagemaker-data-science-310-v1"
  },
  "language_info": {
   "codemirror_mode": {
    "name": "ipython",
    "version": 3
   },
   "file_extension": ".py",
   "mimetype": "text/x-python",
   "name": "python",
   "nbconvert_exporter": "python",
   "pygments_lexer": "ipython3",
   "version": "3.10.6"
  }
 },
 "nbformat": 4,
 "nbformat_minor": 4
}
